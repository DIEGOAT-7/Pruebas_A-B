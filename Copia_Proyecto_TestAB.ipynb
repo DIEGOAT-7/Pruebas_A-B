{
 "cells": [
  {
   "cell_type": "markdown",
   "id": "c38a6e9c",
   "metadata": {},
   "source": [
    "# Proyecto análisis pruebas A/B\n",
    "\n",
    "Has recibido una tarea analítica de una tienda en línea internacional. Tus predecesores no consiguieron completarla: lanzaron una prueba A/B y luego abandonaron (para iniciar una granja de sandías en Brasil). Solo dejaron las especificaciones técnicas y los resultados de las pruebas.\n",
    "\n",
    "**Descripción técnica:**\n",
    "- Nombre de la prueba: recommender_system_test\n",
    "- Grupos: А (control), B (nuevo embudo de pago)\n",
    "- Fecha de lanzamiento: 2020-12-07\n",
    "- Fecha en la que dejaron de aceptar nuevos usuarios: 2020-12-21\n",
    "- Fecha de finalización: 2021-01-01\n",
    "- Audiencia: 15% de los nuevos usuarios de la región de la UE\n",
    "- Propósito de la prueba: probar cambios relacionados con la introducción de un sistema de recomendaciones mejorado\n",
    "- Resultado esperado: dentro de los 14 días posteriores a la inscripción, los usuarios mostrarán una mejor conversión en vistas de la página del producto (el evento product_page), instancias de agregar artículos al carrito de compras (product_cart) y compras (purchase). En cada etapa del embudo product_page → product_cart → purchase, habrá al menos un 10% de aumento.\n",
    "- Número previsto de participantes de la prueba: 6 000\n",
    "\n",
    "\n",
    "---\n"
   ]
  },
  {
   "cell_type": "code",
   "execution_count": 33,
   "id": "e94550fb",
   "metadata": {},
   "outputs": [],
   "source": [
    "# Cargamos las librerías que vamos a necesitar\n",
    "\n",
    "import pandas as pd\n",
    "import numpy as np\n",
    "import datetime as dt\n",
    "from scipy import stats as st\n",
    "import math as m\n",
    "import matplotlib.pyplot as plt\n",
    "import seaborn as sns"
   ]
  },
  {
   "cell_type": "code",
   "execution_count": 34,
   "id": "1c4a0d97",
   "metadata": {},
   "outputs": [],
   "source": [
    "# Leemos los datasets\n",
    " \n",
    "marketing_events = pd.read_csv('ab_project_marketing_events_us.csv')\n",
    "new_users = pd.read_csv('final_ab_new_users_upd_us.csv')\n",
    "events = pd.read_csv('final_ab_events_upd_us.csv')\n",
    "participants = pd.read_csv('final_ab_participants_upd_us.csv')"
   ]
  },
  {
   "cell_type": "markdown",
   "id": "ce0981b9",
   "metadata": {},
   "source": [
    "## Revisar los datos:"
   ]
  },
  {
   "cell_type": "code",
   "execution_count": 35,
   "id": "4f166d98",
   "metadata": {},
   "outputs": [
    {
     "name": "stdout",
     "output_type": "stream",
     "text": [
      "Marketing Events:\n",
      "<class 'pandas.core.frame.DataFrame'>\n",
      "RangeIndex: 14 entries, 0 to 13\n",
      "Data columns (total 4 columns):\n",
      " #   Column     Non-Null Count  Dtype \n",
      "---  ------     --------------  ----- \n",
      " 0   name       14 non-null     object\n",
      " 1   regions    14 non-null     object\n",
      " 2   start_dt   14 non-null     object\n",
      " 3   finish_dt  14 non-null     object\n",
      "dtypes: object(4)\n",
      "memory usage: 580.0+ bytes\n"
     ]
    },
    {
     "data": {
      "text/html": [
       "<div>\n",
       "<style scoped>\n",
       "    .dataframe tbody tr th:only-of-type {\n",
       "        vertical-align: middle;\n",
       "    }\n",
       "\n",
       "    .dataframe tbody tr th {\n",
       "        vertical-align: top;\n",
       "    }\n",
       "\n",
       "    .dataframe thead th {\n",
       "        text-align: right;\n",
       "    }\n",
       "</style>\n",
       "<table border=\"1\" class=\"dataframe\">\n",
       "  <thead>\n",
       "    <tr style=\"text-align: right;\">\n",
       "      <th></th>\n",
       "      <th>name</th>\n",
       "      <th>regions</th>\n",
       "      <th>start_dt</th>\n",
       "      <th>finish_dt</th>\n",
       "    </tr>\n",
       "  </thead>\n",
       "  <tbody>\n",
       "    <tr>\n",
       "      <th>0</th>\n",
       "      <td>Christmas&amp;New Year Promo</td>\n",
       "      <td>EU, N.America</td>\n",
       "      <td>2020-12-25</td>\n",
       "      <td>2021-01-03</td>\n",
       "    </tr>\n",
       "    <tr>\n",
       "      <th>1</th>\n",
       "      <td>St. Valentine's Day Giveaway</td>\n",
       "      <td>EU, CIS, APAC, N.America</td>\n",
       "      <td>2020-02-14</td>\n",
       "      <td>2020-02-16</td>\n",
       "    </tr>\n",
       "    <tr>\n",
       "      <th>2</th>\n",
       "      <td>St. Patric's Day Promo</td>\n",
       "      <td>EU, N.America</td>\n",
       "      <td>2020-03-17</td>\n",
       "      <td>2020-03-19</td>\n",
       "    </tr>\n",
       "    <tr>\n",
       "      <th>3</th>\n",
       "      <td>Easter Promo</td>\n",
       "      <td>EU, CIS, APAC, N.America</td>\n",
       "      <td>2020-04-12</td>\n",
       "      <td>2020-04-19</td>\n",
       "    </tr>\n",
       "    <tr>\n",
       "      <th>4</th>\n",
       "      <td>4th of July Promo</td>\n",
       "      <td>N.America</td>\n",
       "      <td>2020-07-04</td>\n",
       "      <td>2020-07-11</td>\n",
       "    </tr>\n",
       "  </tbody>\n",
       "</table>\n",
       "</div>"
      ],
      "text/plain": [
       "                           name                   regions    start_dt  \\\n",
       "0      Christmas&New Year Promo             EU, N.America  2020-12-25   \n",
       "1  St. Valentine's Day Giveaway  EU, CIS, APAC, N.America  2020-02-14   \n",
       "2        St. Patric's Day Promo             EU, N.America  2020-03-17   \n",
       "3                  Easter Promo  EU, CIS, APAC, N.America  2020-04-12   \n",
       "4             4th of July Promo                 N.America  2020-07-04   \n",
       "\n",
       "    finish_dt  \n",
       "0  2021-01-03  \n",
       "1  2020-02-16  \n",
       "2  2020-03-19  \n",
       "3  2020-04-19  \n",
       "4  2020-07-11  "
      ]
     },
     "execution_count": 35,
     "metadata": {},
     "output_type": "execute_result"
    }
   ],
   "source": [
    "print('Marketing Events:')\n",
    "marketing_events.info()\n",
    "marketing_events.head()"
   ]
  },
  {
   "cell_type": "code",
   "execution_count": 36,
   "id": "8cd03214",
   "metadata": {},
   "outputs": [
    {
     "name": "stdout",
     "output_type": "stream",
     "text": [
      "New Users:\n"
     ]
    },
    {
     "name": "stdout",
     "output_type": "stream",
     "text": [
      "<class 'pandas.core.frame.DataFrame'>\n",
      "RangeIndex: 58703 entries, 0 to 58702\n",
      "Data columns (total 4 columns):\n",
      " #   Column      Non-Null Count  Dtype \n",
      "---  ------      --------------  ----- \n",
      " 0   user_id     58703 non-null  object\n",
      " 1   first_date  58703 non-null  object\n",
      " 2   region      58703 non-null  object\n",
      " 3   device      58703 non-null  object\n",
      "dtypes: object(4)\n",
      "memory usage: 1.8+ MB\n"
     ]
    },
    {
     "data": {
      "text/html": [
       "<div>\n",
       "<style scoped>\n",
       "    .dataframe tbody tr th:only-of-type {\n",
       "        vertical-align: middle;\n",
       "    }\n",
       "\n",
       "    .dataframe tbody tr th {\n",
       "        vertical-align: top;\n",
       "    }\n",
       "\n",
       "    .dataframe thead th {\n",
       "        text-align: right;\n",
       "    }\n",
       "</style>\n",
       "<table border=\"1\" class=\"dataframe\">\n",
       "  <thead>\n",
       "    <tr style=\"text-align: right;\">\n",
       "      <th></th>\n",
       "      <th>user_id</th>\n",
       "      <th>first_date</th>\n",
       "      <th>region</th>\n",
       "      <th>device</th>\n",
       "    </tr>\n",
       "  </thead>\n",
       "  <tbody>\n",
       "    <tr>\n",
       "      <th>0</th>\n",
       "      <td>D72A72121175D8BE</td>\n",
       "      <td>2020-12-07</td>\n",
       "      <td>EU</td>\n",
       "      <td>PC</td>\n",
       "    </tr>\n",
       "    <tr>\n",
       "      <th>1</th>\n",
       "      <td>F1C668619DFE6E65</td>\n",
       "      <td>2020-12-07</td>\n",
       "      <td>N.America</td>\n",
       "      <td>Android</td>\n",
       "    </tr>\n",
       "    <tr>\n",
       "      <th>2</th>\n",
       "      <td>2E1BF1D4C37EA01F</td>\n",
       "      <td>2020-12-07</td>\n",
       "      <td>EU</td>\n",
       "      <td>PC</td>\n",
       "    </tr>\n",
       "    <tr>\n",
       "      <th>3</th>\n",
       "      <td>50734A22C0C63768</td>\n",
       "      <td>2020-12-07</td>\n",
       "      <td>EU</td>\n",
       "      <td>iPhone</td>\n",
       "    </tr>\n",
       "    <tr>\n",
       "      <th>4</th>\n",
       "      <td>E1BDDCE0DAFA2679</td>\n",
       "      <td>2020-12-07</td>\n",
       "      <td>N.America</td>\n",
       "      <td>iPhone</td>\n",
       "    </tr>\n",
       "  </tbody>\n",
       "</table>\n",
       "</div>"
      ],
      "text/plain": [
       "            user_id  first_date     region   device\n",
       "0  D72A72121175D8BE  2020-12-07         EU       PC\n",
       "1  F1C668619DFE6E65  2020-12-07  N.America  Android\n",
       "2  2E1BF1D4C37EA01F  2020-12-07         EU       PC\n",
       "3  50734A22C0C63768  2020-12-07         EU   iPhone\n",
       "4  E1BDDCE0DAFA2679  2020-12-07  N.America   iPhone"
      ]
     },
     "execution_count": 36,
     "metadata": {},
     "output_type": "execute_result"
    }
   ],
   "source": [
    "print('New Users:')\n",
    "new_users.info()\n",
    "new_users.head()"
   ]
  },
  {
   "cell_type": "code",
   "execution_count": 37,
   "id": "21a5c6fe",
   "metadata": {},
   "outputs": [
    {
     "name": "stdout",
     "output_type": "stream",
     "text": [
      "Events:\n",
      "<class 'pandas.core.frame.DataFrame'>\n",
      "RangeIndex: 423761 entries, 0 to 423760\n",
      "Data columns (total 4 columns):\n",
      " #   Column      Non-Null Count   Dtype  \n",
      "---  ------      --------------   -----  \n",
      " 0   user_id     423761 non-null  object \n",
      " 1   event_dt    423761 non-null  object \n",
      " 2   event_name  423761 non-null  object \n",
      " 3   details     60314 non-null   float64\n",
      "dtypes: float64(1), object(3)\n",
      "memory usage: 12.9+ MB\n"
     ]
    },
    {
     "data": {
      "text/html": [
       "<div>\n",
       "<style scoped>\n",
       "    .dataframe tbody tr th:only-of-type {\n",
       "        vertical-align: middle;\n",
       "    }\n",
       "\n",
       "    .dataframe tbody tr th {\n",
       "        vertical-align: top;\n",
       "    }\n",
       "\n",
       "    .dataframe thead th {\n",
       "        text-align: right;\n",
       "    }\n",
       "</style>\n",
       "<table border=\"1\" class=\"dataframe\">\n",
       "  <thead>\n",
       "    <tr style=\"text-align: right;\">\n",
       "      <th></th>\n",
       "      <th>user_id</th>\n",
       "      <th>event_dt</th>\n",
       "      <th>event_name</th>\n",
       "      <th>details</th>\n",
       "    </tr>\n",
       "  </thead>\n",
       "  <tbody>\n",
       "    <tr>\n",
       "      <th>0</th>\n",
       "      <td>E1BDDCE0DAFA2679</td>\n",
       "      <td>2020-12-07 20:22:03</td>\n",
       "      <td>purchase</td>\n",
       "      <td>99.99</td>\n",
       "    </tr>\n",
       "    <tr>\n",
       "      <th>1</th>\n",
       "      <td>7B6452F081F49504</td>\n",
       "      <td>2020-12-07 09:22:53</td>\n",
       "      <td>purchase</td>\n",
       "      <td>9.99</td>\n",
       "    </tr>\n",
       "    <tr>\n",
       "      <th>2</th>\n",
       "      <td>9CD9F34546DF254C</td>\n",
       "      <td>2020-12-07 12:59:29</td>\n",
       "      <td>purchase</td>\n",
       "      <td>4.99</td>\n",
       "    </tr>\n",
       "    <tr>\n",
       "      <th>3</th>\n",
       "      <td>96F27A054B191457</td>\n",
       "      <td>2020-12-07 04:02:40</td>\n",
       "      <td>purchase</td>\n",
       "      <td>4.99</td>\n",
       "    </tr>\n",
       "    <tr>\n",
       "      <th>4</th>\n",
       "      <td>1FD7660FDF94CA1F</td>\n",
       "      <td>2020-12-07 10:15:09</td>\n",
       "      <td>purchase</td>\n",
       "      <td>4.99</td>\n",
       "    </tr>\n",
       "  </tbody>\n",
       "</table>\n",
       "</div>"
      ],
      "text/plain": [
       "            user_id             event_dt event_name  details\n",
       "0  E1BDDCE0DAFA2679  2020-12-07 20:22:03   purchase    99.99\n",
       "1  7B6452F081F49504  2020-12-07 09:22:53   purchase     9.99\n",
       "2  9CD9F34546DF254C  2020-12-07 12:59:29   purchase     4.99\n",
       "3  96F27A054B191457  2020-12-07 04:02:40   purchase     4.99\n",
       "4  1FD7660FDF94CA1F  2020-12-07 10:15:09   purchase     4.99"
      ]
     },
     "execution_count": 37,
     "metadata": {},
     "output_type": "execute_result"
    }
   ],
   "source": [
    "print('Events:')\n",
    "events.info()\n",
    "events.head()"
   ]
  },
  {
   "cell_type": "code",
   "execution_count": 38,
   "id": "371ba3a5",
   "metadata": {},
   "outputs": [
    {
     "name": "stdout",
     "output_type": "stream",
     "text": [
      "Participants:\n",
      "<class 'pandas.core.frame.DataFrame'>\n",
      "RangeIndex: 14525 entries, 0 to 14524\n",
      "Data columns (total 3 columns):\n",
      " #   Column   Non-Null Count  Dtype \n",
      "---  ------   --------------  ----- \n",
      " 0   user_id  14525 non-null  object\n",
      " 1   group    14525 non-null  object\n",
      " 2   ab_test  14525 non-null  object\n",
      "dtypes: object(3)\n",
      "memory usage: 340.6+ KB\n"
     ]
    },
    {
     "data": {
      "text/html": [
       "<div>\n",
       "<style scoped>\n",
       "    .dataframe tbody tr th:only-of-type {\n",
       "        vertical-align: middle;\n",
       "    }\n",
       "\n",
       "    .dataframe tbody tr th {\n",
       "        vertical-align: top;\n",
       "    }\n",
       "\n",
       "    .dataframe thead th {\n",
       "        text-align: right;\n",
       "    }\n",
       "</style>\n",
       "<table border=\"1\" class=\"dataframe\">\n",
       "  <thead>\n",
       "    <tr style=\"text-align: right;\">\n",
       "      <th></th>\n",
       "      <th>user_id</th>\n",
       "      <th>group</th>\n",
       "      <th>ab_test</th>\n",
       "    </tr>\n",
       "  </thead>\n",
       "  <tbody>\n",
       "    <tr>\n",
       "      <th>0</th>\n",
       "      <td>D1ABA3E2887B6A73</td>\n",
       "      <td>A</td>\n",
       "      <td>recommender_system_test</td>\n",
       "    </tr>\n",
       "    <tr>\n",
       "      <th>1</th>\n",
       "      <td>A7A3664BD6242119</td>\n",
       "      <td>A</td>\n",
       "      <td>recommender_system_test</td>\n",
       "    </tr>\n",
       "    <tr>\n",
       "      <th>2</th>\n",
       "      <td>DABC14FDDFADD29E</td>\n",
       "      <td>A</td>\n",
       "      <td>recommender_system_test</td>\n",
       "    </tr>\n",
       "    <tr>\n",
       "      <th>3</th>\n",
       "      <td>04988C5DF189632E</td>\n",
       "      <td>A</td>\n",
       "      <td>recommender_system_test</td>\n",
       "    </tr>\n",
       "    <tr>\n",
       "      <th>4</th>\n",
       "      <td>4FF2998A348C484F</td>\n",
       "      <td>A</td>\n",
       "      <td>recommender_system_test</td>\n",
       "    </tr>\n",
       "  </tbody>\n",
       "</table>\n",
       "</div>"
      ],
      "text/plain": [
       "            user_id group                  ab_test\n",
       "0  D1ABA3E2887B6A73     A  recommender_system_test\n",
       "1  A7A3664BD6242119     A  recommender_system_test\n",
       "2  DABC14FDDFADD29E     A  recommender_system_test\n",
       "3  04988C5DF189632E     A  recommender_system_test\n",
       "4  4FF2998A348C484F     A  recommender_system_test"
      ]
     },
     "execution_count": 38,
     "metadata": {},
     "output_type": "execute_result"
    }
   ],
   "source": [
    "print('Participants:')\n",
    "participants.info()\n",
    "participants.head()"
   ]
  },
  {
   "cell_type": "markdown",
   "id": "494dcca3",
   "metadata": {},
   "source": [
    "### Observaciones:\n",
    "\n",
    "- La columna 'details' tiene valores ausentes. Esto es esperado, ya que no todos los eventos tienen detalles adicionales (ej. login). Para nuestro análisis de conversión del embudo (contar eventos), esto no debería ser un problema. Esta columna significa datos adicionales sobre el evento (por ejemplo, el pedido total en USD para los eventos purchase), el resto de  datasets tienen los datos completos.\n",
    "\n",
    "- Debemos cambiar el tipo de dato a **datetime** respectivamente en cada columna de fecha de cada dataset.\n",
    "\n",
    "- Revisaremos si hay valores duplicados\n",
    "\n",
    "---"
   ]
  },
  {
   "cell_type": "markdown",
   "id": "b18dfcfd",
   "metadata": {},
   "source": [
    "## Exploración y Limpieza de Datos"
   ]
  },
  {
   "cell_type": "code",
   "execution_count": 39,
   "id": "a00a7dde",
   "metadata": {},
   "outputs": [],
   "source": [
    "# Conversión de Tipos de Datos (Fechas)\n",
    "\n",
    "# Marketing Events\n",
    "marketing_events['start_dt'] = pd.to_datetime(marketing_events['start_dt'])\n",
    "marketing_events['finish_dt'] = pd.to_datetime(marketing_events['finish_dt'])\n",
    "\n",
    "# New Users\n",
    "new_users['first_date'] = pd.to_datetime(new_users['first_date'])\n",
    "\n",
    "# Events\n",
    "events['event_dt'] = pd.to_datetime(events['event_dt'])"
   ]
  },
  {
   "cell_type": "code",
   "execution_count": 40,
   "id": "91f859ae",
   "metadata": {},
   "outputs": [
    {
     "name": "stdout",
     "output_type": "stream",
     "text": [
      "\n",
      "--- Filas Duplicadas Completas por DataFrame ---\n",
      "Marketing Events: 0\n",
      "New Users: 0\n",
      "Events: 0\n",
      "Participants: 0\n"
     ]
    }
   ],
   "source": [
    "# Revisión de Duplicados\n",
    "print(\"\\n--- Filas Duplicadas Completas por DataFrame ---\")\n",
    "print(f\"Marketing Events: {marketing_events.duplicated().sum()}\")\n",
    "print(f\"New Users: {new_users.duplicated().sum()}\")\n",
    "print(f\"Events: {events.duplicated().sum()}\")\n",
    "print(f\"Participants: {participants.duplicated().sum()}\")"
   ]
  },
  {
   "cell_type": "code",
   "execution_count": 41,
   "id": "346cd2ed",
   "metadata": {},
   "outputs": [
    {
     "name": "stdout",
     "output_type": "stream",
     "text": [
      "\n",
      "Se encontraron 441 usuarios asignados a más de un grupo en 'participants'.\n"
     ]
    }
   ],
   "source": [
    "# También revisamos duplicados lógicos: ¿Un usuario en múltiples grupos?\n",
    "participant_duplicates = participants.groupby('user_id')['group'].nunique().reset_index()\n",
    "multiple_groups = participant_duplicates[participant_duplicates['group'] > 1]['user_id'].nunique()\n",
    "if multiple_groups > 0:\n",
    "    print(f\"\\nSe encontraron {multiple_groups} usuarios asignados a más de un grupo en 'participants'.\")\n",
    "else:\n",
    "    print(\"\\nVerificación: Ningún usuario encontrado en múltiples grupos en 'participants'.\")"
   ]
  },
  {
   "cell_type": "markdown",
   "id": "c340e04d",
   "metadata": {},
   "source": [
    "### Conclusión: \n",
    "\n",
    "**Duplicados:**\n",
    "\n",
    "- Verificamos filas completamente duplicadas con .duplicated().sum(). También realizamos una verificación lógica importante: si algún usuario (user_id) está asignado a más de un grupo (group) en participants, lo cual invalidaría parcialmente la prueba para esos usuarios.\n",
    "\n",
    "---"
   ]
  },
  {
   "cell_type": "markdown",
   "id": "2f5cbfbd",
   "metadata": {},
   "source": [
    "## Filtrado:"
   ]
  },
  {
   "cell_type": "code",
   "execution_count": 42,
   "id": "bc4bdaf2",
   "metadata": {},
   "outputs": [
    {
     "name": "stdout",
     "output_type": "stream",
     "text": [
      "Participantes válidos y balanceados por grupo:\n",
      "group\n",
      "A    877\n",
      "B    877\n",
      "Name: count, dtype: int64\n",
      "Total eventos asociados: 10828\n"
     ]
    },
    {
     "name": "stderr",
     "output_type": "stream",
     "text": [
      "/var/folders/yd/jr1h18jn6px95w7s343fr20h0000gp/T/ipykernel_1563/66928867.py:24: DeprecationWarning:\n",
      "\n",
      "DataFrameGroupBy.apply operated on the grouping columns. This behavior is deprecated, and in a future version of pandas the grouping columns will be excluded from the operation. Either pass `include_groups=False` to exclude the groupings or explicitly select the grouping columns after groupby to silence this warning.\n",
      "\n"
     ]
    }
   ],
   "source": [
    "# Filtrado y Consistencia de Datos\n",
    "\n",
    "# 1. Filtrar usuarios de la región EU\n",
    "users_eu = new_users[new_users['region'] == 'EU'][['user_id', 'first_date']]\n",
    "\n",
    "# 2. Filtrar participantes del test correcto y que estén en la EU\n",
    "participants_eu = participants[\n",
    "    (participants['ab_test'] == 'recommender_system_test') &\n",
    "    (participants['user_id'].isin(users_eu['user_id']))\n",
    "]\n",
    "\n",
    "# 3. Unir participantes con la fecha de registro\n",
    "participants_eu = participants_eu.merge(users_eu, on='user_id')\n",
    "\n",
    "# 4. Filtrar usuarios que se registraron en el rango válido\n",
    "mask = participants_eu['first_date'].between('2020-12-07', '2020-12-21')\n",
    "participants_in_period = participants_eu[mask]\n",
    "\n",
    "# 5. Balancear los grupos A y B al tamaño del grupo más pequeño\n",
    "min_group_size = participants_in_period['group'].value_counts().min()\n",
    "balanced_participants = (\n",
    "    participants_in_period\n",
    "    .groupby('group', group_keys=False)\n",
    "    .apply(lambda x: x.sample(min_group_size, random_state=42))\n",
    "    .reset_index(drop=True)\n",
    ")\n",
    "\n",
    "# 6. Filtrar eventos finales de los usuarios válidos y balanceados\n",
    "valid_user_ids = balanced_participants['user_id']\n",
    "final_events = events[events['user_id'].isin(valid_user_ids)]\n",
    "\n",
    "# 7. Asignar resultado final limpio\n",
    "final_participants = balanced_participants\n",
    "\n",
    "# Verificaciones\n",
    "print(\"Participantes válidos y balanceados por grupo:\")\n",
    "print(final_participants['group'].value_counts())\n",
    "print(f\"Total eventos asociados: {len(final_events)}\")\n"
   ]
  },
  {
   "cell_type": "markdown",
   "id": "82ebb18b",
   "metadata": {},
   "source": [
    "## Conclusión:\n",
    "\n",
    "### Es un bloque para filtrar datos de usuarios y eventos y asegurar que:\n",
    "\n",
    "- Solo se analicen usuarios de la Unión Europea.\n",
    "\n",
    "- Solo se consideren participantes del experimento correcto (recommender_system_test).\n",
    "\n",
    "- Todos los datos estén consistentes, con:\n",
    "\n",
    "   - ***Usuarios válidos***\n",
    "\n",
    "   - ***Fechas correctas de registro***\n",
    "\n",
    "   - ***Y eventos relacionados con esos usuarios***\n",
    "\n",
    "### **¿Qué hace paso a paso?**\n",
    "\n",
    "1. Filtra usuarios de la región UE.\n",
    "2. Filtra participantes del test correcto.\n",
    "3. Filtra esos participantes para que sean solo de la UE.\n",
    "4. Filtra los eventos que correspondan a esos usuarios válidos.\n",
    "5. Verifica si hay inconsistencias en usuarios o fechas.\n",
    "6. Actualiza los conjuntos de datos para análisis limpio.\n",
    "\n",
    "---"
   ]
  },
  {
   "cell_type": "markdown",
   "id": "67249ea5",
   "metadata": {},
   "source": [
    "## Cómo se distribuye el número de eventos entre los días"
   ]
  },
  {
   "cell_type": "code",
   "execution_count": 43,
   "id": "aafaa243",
   "metadata": {},
   "outputs": [
    {
     "name": "stderr",
     "output_type": "stream",
     "text": [
      "/var/folders/yd/jr1h18jn6px95w7s343fr20h0000gp/T/ipykernel_1563/2295630914.py:2: SettingWithCopyWarning:\n",
      "\n",
      "\n",
      "A value is trying to be set on a copy of a slice from a DataFrame.\n",
      "Try using .loc[row_indexer,col_indexer] = value instead\n",
      "\n",
      "See the caveats in the documentation: https://pandas.pydata.org/pandas-docs/stable/user_guide/indexing.html#returning-a-view-versus-a-copy\n",
      "\n"
     ]
    },
    {
     "data": {
      "text/plain": [
       "\"\\nfig = px.line(\\n    events_by_day_group,\\n    x='event_date',\\n    y='event_count',\\n    color='group',\\n    markers=True,\\n    title='Distribución de eventos por día y por grupo',\\n    labels={'event_date': 'Fecha', 'event_count': 'Cantidad de eventos'}\\n)\\n\\nfig.update_layout(xaxis_title='Fecha', yaxis_title='Cantidad de Eventos', xaxis=dict(tickformat='%Y-%m-%d'))\\nfig.show()\\n\""
      ]
     },
     "execution_count": 43,
     "metadata": {},
     "output_type": "execute_result"
    }
   ],
   "source": [
    "# Asegurar tipo datetime y extraer solo la fecha\n",
    "final_events.loc[:, 'event_date'] = pd.to_datetime(final_events['event_dt']).dt.date\n",
    "\n",
    "\n",
    "# Agregar la columna 'group' a final_events mediante merge con final_participants\n",
    "events_with_group = pd.merge(final_events, final_participants[['user_id', 'group']], on='user_id', how='left')\n",
    "\n",
    "# Agrupar por fecha y grupo para contar eventos\n",
    "events_by_day_group = (\n",
    "    events_with_group.groupby(['event_date', 'group'])['user_id']\n",
    "    .count()\n",
    "    .reset_index()\n",
    "    .rename(columns={'user_id': 'event_count'})\n",
    ")\n",
    "\n",
    "# Graficar\n",
    "\n",
    "import plotly.express as px\n",
    "'''\n",
    "fig = px.line(\n",
    "    events_by_day_group,\n",
    "    x='event_date',\n",
    "    y='event_count',\n",
    "    color='group',\n",
    "    markers=True,\n",
    "    title='Distribución de eventos por día y por grupo',\n",
    "    labels={'event_date': 'Fecha', 'event_count': 'Cantidad de eventos'}\n",
    ")\n",
    "\n",
    "fig.update_layout(xaxis_title='Fecha', yaxis_title='Cantidad de Eventos', xaxis=dict(tickformat='%Y-%m-%d'))\n",
    "fig.show()\n",
    "'''"
   ]
  },
  {
   "cell_type": "code",
   "execution_count": 44,
   "id": "3013a2cf",
   "metadata": {},
   "outputs": [
    {
     "data": {
      "image/png": "[encoded data removed]",
      "text/plain": [
       "<Figure size 1000x600 with 1 Axes>"
      ]
     },
     "metadata": {},
     "output_type": "display_data"
    }
   ],
   "source": [
    "import matplotlib.dates as mdates\n",
    "\n",
    "# Asegúrate de que 'event_date' sea tipo datetime\n",
    "#events_by_day_group['event_date'] = pd.to_datetime(events_by_day_group['event_date'])\n",
    "\n",
    "# Crear figura\n",
    "plt.figure(figsize=(10,6))\n",
    "\n",
    "# Graficar cada grupo por separado\n",
    "for group_name, group_data in events_by_day_group.groupby('group'):\n",
    "    plt.plot(\n",
    "        group_data['event_date'],\n",
    "        group_data['event_count'],\n",
    "        marker='o',\n",
    "        label=group_name\n",
    "    )\n",
    "\n",
    "# Título y etiquetas\n",
    "plt.title('Distribución de eventos por día y por grupo')\n",
    "plt.xlabel('Fecha')\n",
    "plt.ylabel('Cantidad de Eventos')\n",
    "\n",
    "# Formato de fechas en el eje X\n",
    "plt.gca().xaxis.set_major_formatter(mdates.DateFormatter('%Y-%m-%d'))\n",
    "plt.gcf().autofmt_xdate()  # Rota las fechas para que no se encimen\n",
    "\n",
    "# Leyenda\n",
    "plt.legend(title='Grupo')\n",
    "\n",
    "# Mostrar\n",
    "plt.tight_layout()\n",
    "plt.show()"
   ]
  },
  {
   "cell_type": "markdown",
   "id": "770eafb2",
   "metadata": {},
   "source": [
    "### Conclusión:\n",
    " El grupo B comenzó con una alta cantidad de eventos en comparación del grupo A pero conforme van pasando los días el se van estabilizando los grupos pero siendo ahora el grupo A el que acumula mayor cantidad de eventos a partir del 2020-12-14\n",
    "\n",
    "**Distribución Similar Entre Grupos:**\n",
    "\n",
    "Ambos grupos muestran una forma de curva parecida (tendencias temporales similares).\n",
    "Esto sugiere que el sistema asignó usuarios a grupos correctamente y que no hubo errores que favorezcan un grupo sobre otro durante ciertos días.\n",
    "\n",
    "**Volumen de Actividad Diario:**\n",
    "\n",
    "Hubo días con picos y caídas en el número de eventos.\n",
    "Si hay ciertos días con muchos más eventos, podría deberse a:\n",
    "\n",
    "- Campañas de marketing.\n",
    "- Ciclos naturales de uso (por ejemplo, má uso en fines de semana).\n",
    "\n",
    "---"
   ]
  },
  {
   "cell_type": "markdown",
   "id": "6f83713f",
   "metadata": {},
   "source": [
    "## Análisis Exploratorio de Datos (EDA)\n",
    "\n",
    "Usaremos los DataFrames final_participants y final_events que preparamos.\n",
    "\n",
    "1. Análisis del Embudo de Conversión (Considerando Ventana de 14 días)\n",
    "\n",
    "El objetivo es ver cuántos usuarios de cada grupo (A y B) pasan por las etapas product_page -> product_card -> purchase dentro de los 14 días siguientes a su fecha de registro (first_date)."
   ]
  },
  {
   "cell_type": "markdown",
   "id": "18241505",
   "metadata": {},
   "source": [
    "## Filtrado por 14 días:\n",
    "Se repite el proceso crucial de unir eventos con la fecha de registro y filtrar solo aquellos dentro de los 14 días."
   ]
  },
  {
   "cell_type": "code",
   "execution_count": 45,
   "id": "c171a52a",
   "metadata": {},
   "outputs": [
    {
     "name": "stdout",
     "output_type": "stream",
     "text": [
      "Eventos en los primeros 14 días: 10427\n"
     ]
    },
    {
     "data": {
      "text/html": [
       "<div>\n",
       "<style scoped>\n",
       "    .dataframe tbody tr th:only-of-type {\n",
       "        vertical-align: middle;\n",
       "    }\n",
       "\n",
       "    .dataframe tbody tr th {\n",
       "        vertical-align: top;\n",
       "    }\n",
       "\n",
       "    .dataframe thead th {\n",
       "        text-align: right;\n",
       "    }\n",
       "</style>\n",
       "<table border=\"1\" class=\"dataframe\">\n",
       "  <thead>\n",
       "    <tr style=\"text-align: right;\">\n",
       "      <th></th>\n",
       "      <th>user_id</th>\n",
       "      <th>event_dt</th>\n",
       "      <th>event_name</th>\n",
       "      <th>group</th>\n",
       "      <th>first_date</th>\n",
       "      <th>days_after_registration</th>\n",
       "    </tr>\n",
       "  </thead>\n",
       "  <tbody>\n",
       "    <tr>\n",
       "      <th>0</th>\n",
       "      <td>3C5DD0288AC4FE23</td>\n",
       "      <td>2020-12-07 19:42:40</td>\n",
       "      <td>purchase</td>\n",
       "      <td>A</td>\n",
       "      <td>2020-12-07</td>\n",
       "      <td>0</td>\n",
       "    </tr>\n",
       "    <tr>\n",
       "      <th>1</th>\n",
       "      <td>49EA242586C87836</td>\n",
       "      <td>2020-12-07 06:31:24</td>\n",
       "      <td>purchase</td>\n",
       "      <td>B</td>\n",
       "      <td>2020-12-07</td>\n",
       "      <td>0</td>\n",
       "    </tr>\n",
       "    <tr>\n",
       "      <th>2</th>\n",
       "      <td>A640F31CAC7823A6</td>\n",
       "      <td>2020-12-07 18:48:26</td>\n",
       "      <td>purchase</td>\n",
       "      <td>B</td>\n",
       "      <td>2020-12-07</td>\n",
       "      <td>0</td>\n",
       "    </tr>\n",
       "    <tr>\n",
       "      <th>3</th>\n",
       "      <td>2F46396B6766CFDB</td>\n",
       "      <td>2020-12-07 13:29:30</td>\n",
       "      <td>purchase</td>\n",
       "      <td>A</td>\n",
       "      <td>2020-12-07</td>\n",
       "      <td>0</td>\n",
       "    </tr>\n",
       "    <tr>\n",
       "      <th>4</th>\n",
       "      <td>538F954F6B3AECE4</td>\n",
       "      <td>2020-12-07 07:12:05</td>\n",
       "      <td>purchase</td>\n",
       "      <td>A</td>\n",
       "      <td>2020-12-07</td>\n",
       "      <td>0</td>\n",
       "    </tr>\n",
       "  </tbody>\n",
       "</table>\n",
       "</div>"
      ],
      "text/plain": [
       "            user_id            event_dt event_name group first_date  \\\n",
       "0  3C5DD0288AC4FE23 2020-12-07 19:42:40   purchase     A 2020-12-07   \n",
       "1  49EA242586C87836 2020-12-07 06:31:24   purchase     B 2020-12-07   \n",
       "2  A640F31CAC7823A6 2020-12-07 18:48:26   purchase     B 2020-12-07   \n",
       "3  2F46396B6766CFDB 2020-12-07 13:29:30   purchase     A 2020-12-07   \n",
       "4  538F954F6B3AECE4 2020-12-07 07:12:05   purchase     A 2020-12-07   \n",
       "\n",
       "   days_after_registration  \n",
       "0                        0  \n",
       "1                        0  \n",
       "2                        0  \n",
       "3                        0  \n",
       "4                        0  "
      ]
     },
     "execution_count": 45,
     "metadata": {},
     "output_type": "execute_result"
    }
   ],
   "source": [
    "# Unir eventos con la fecha de registro de los participantes\n",
    "events_merged = pd.merge(\n",
    "    final_events[['user_id', 'event_dt', 'event_name']],\n",
    "    final_participants[['user_id', 'group', 'first_date']],\n",
    "    on='user_id',\n",
    "    how='left'\n",
    ")\n",
    "\n",
    "# Calcular días desde el registro hasta el evento\n",
    "events_merged['days_after_registration'] = (\n",
    "    events_merged['event_dt'] - events_merged['first_date']\n",
    ").dt.days\n",
    "\n",
    "# Filtrar eventos que ocurrieron dentro de los primeros 14 días tras el registro\n",
    "events_14d = events_merged.query(\"0 <= days_after_registration < 14\").copy()\n",
    "\n",
    "print(f\"Eventos en los primeros 14 días: {len(events_14d)}\")\n",
    "events_14d.head()\n",
    "\n"
   ]
  },
  {
   "cell_type": "markdown",
   "id": "05171a4b",
   "metadata": {},
   "source": [
    "## Construcción del embudo\n",
    "\n",
    "Usamos pivot_table sobre los eventos filtrados (events_14_days) para obtener, por cada usuario y grupo, si realizaron cada event_name (marcando la primera vez que lo hicieron)."
   ]
  },
  {
   "cell_type": "code",
   "execution_count": 46,
   "id": "8220ddfa",
   "metadata": {},
   "outputs": [
    {
     "name": "stdout",
     "output_type": "stream",
     "text": [
      "group\n",
      "A    877\n",
      "B    877\n",
      "Name: user_id, dtype: int64\n"
     ]
    },
    {
     "data": {
      "text/html": [
       "<div>\n",
       "<style scoped>\n",
       "    .dataframe tbody tr th:only-of-type {\n",
       "        vertical-align: middle;\n",
       "    }\n",
       "\n",
       "    .dataframe tbody tr th {\n",
       "        vertical-align: top;\n",
       "    }\n",
       "\n",
       "    .dataframe thead th {\n",
       "        text-align: right;\n",
       "    }\n",
       "</style>\n",
       "<table border=\"1\" class=\"dataframe\">\n",
       "  <thead>\n",
       "    <tr style=\"text-align: right;\">\n",
       "      <th>event_name</th>\n",
       "      <th>user_id</th>\n",
       "      <th>group</th>\n",
       "      <th>login</th>\n",
       "      <th>product_cart</th>\n",
       "      <th>product_page</th>\n",
       "      <th>purchase</th>\n",
       "    </tr>\n",
       "  </thead>\n",
       "  <tbody>\n",
       "    <tr>\n",
       "      <th>0</th>\n",
       "      <td>001064FEAAB631A1</td>\n",
       "      <td>B</td>\n",
       "      <td>2020-12-20 14:43:27</td>\n",
       "      <td>NaT</td>\n",
       "      <td>2020-12-20 14:43:28</td>\n",
       "      <td>NaT</td>\n",
       "    </tr>\n",
       "    <tr>\n",
       "      <th>1</th>\n",
       "      <td>00341D8401F0F665</td>\n",
       "      <td>A</td>\n",
       "      <td>2020-12-21 11:14:50</td>\n",
       "      <td>NaT</td>\n",
       "      <td>NaT</td>\n",
       "      <td>NaT</td>\n",
       "    </tr>\n",
       "    <tr>\n",
       "      <th>2</th>\n",
       "      <td>005E096DBD379BCF</td>\n",
       "      <td>B</td>\n",
       "      <td>2020-12-21 07:20:39</td>\n",
       "      <td>NaT</td>\n",
       "      <td>NaT</td>\n",
       "      <td>2020-12-21 07:20:39</td>\n",
       "    </tr>\n",
       "    <tr>\n",
       "      <th>3</th>\n",
       "      <td>00A52DCF85F1BE03</td>\n",
       "      <td>A</td>\n",
       "      <td>2020-12-20 06:41:11</td>\n",
       "      <td>NaT</td>\n",
       "      <td>NaT</td>\n",
       "      <td>NaT</td>\n",
       "    </tr>\n",
       "    <tr>\n",
       "      <th>4</th>\n",
       "      <td>00E68F103C66C1F7</td>\n",
       "      <td>A</td>\n",
       "      <td>2020-12-18 16:05:40</td>\n",
       "      <td>2020-12-18 16:05:42</td>\n",
       "      <td>2020-12-18 16:05:40</td>\n",
       "      <td>NaT</td>\n",
       "    </tr>\n",
       "    <tr>\n",
       "      <th>...</th>\n",
       "      <td>...</td>\n",
       "      <td>...</td>\n",
       "      <td>...</td>\n",
       "      <td>...</td>\n",
       "      <td>...</td>\n",
       "      <td>...</td>\n",
       "    </tr>\n",
       "    <tr>\n",
       "      <th>1749</th>\n",
       "      <td>FF4456FBA59116E3</td>\n",
       "      <td>A</td>\n",
       "      <td>2020-12-17 14:00:30</td>\n",
       "      <td>NaT</td>\n",
       "      <td>2020-12-17 14:00:31</td>\n",
       "      <td>2020-12-17 14:00:30</td>\n",
       "    </tr>\n",
       "    <tr>\n",
       "      <th>1750</th>\n",
       "      <td>FF44696E39039D29</td>\n",
       "      <td>A</td>\n",
       "      <td>2020-12-21 10:06:56</td>\n",
       "      <td>2020-12-21 10:06:58</td>\n",
       "      <td>2020-12-21 10:06:58</td>\n",
       "      <td>NaT</td>\n",
       "    </tr>\n",
       "    <tr>\n",
       "      <th>1751</th>\n",
       "      <td>FF825C1D791989B5</td>\n",
       "      <td>A</td>\n",
       "      <td>2020-12-19 19:29:18</td>\n",
       "      <td>2020-12-19 19:29:18</td>\n",
       "      <td>NaT</td>\n",
       "      <td>NaT</td>\n",
       "    </tr>\n",
       "    <tr>\n",
       "      <th>1752</th>\n",
       "      <td>FF8CF7057415EB29</td>\n",
       "      <td>B</td>\n",
       "      <td>2020-12-21 16:09:41</td>\n",
       "      <td>NaT</td>\n",
       "      <td>2020-12-21 16:09:41</td>\n",
       "      <td>NaT</td>\n",
       "    </tr>\n",
       "    <tr>\n",
       "      <th>1753</th>\n",
       "      <td>FFF28D02B1EACBE1</td>\n",
       "      <td>B</td>\n",
       "      <td>2020-12-16 08:24:56</td>\n",
       "      <td>2020-12-16 08:24:57</td>\n",
       "      <td>2020-12-16 08:24:57</td>\n",
       "      <td>NaT</td>\n",
       "    </tr>\n",
       "  </tbody>\n",
       "</table>\n",
       "<p>1754 rows × 6 columns</p>\n",
       "</div>"
      ],
      "text/plain": [
       "event_name           user_id group               login        product_cart  \\\n",
       "0           001064FEAAB631A1     B 2020-12-20 14:43:27                 NaT   \n",
       "1           00341D8401F0F665     A 2020-12-21 11:14:50                 NaT   \n",
       "2           005E096DBD379BCF     B 2020-12-21 07:20:39                 NaT   \n",
       "3           00A52DCF85F1BE03     A 2020-12-20 06:41:11                 NaT   \n",
       "4           00E68F103C66C1F7     A 2020-12-18 16:05:40 2020-12-18 16:05:42   \n",
       "...                      ...   ...                 ...                 ...   \n",
       "1749        FF4456FBA59116E3     A 2020-12-17 14:00:30                 NaT   \n",
       "1750        FF44696E39039D29     A 2020-12-21 10:06:56 2020-12-21 10:06:58   \n",
       "1751        FF825C1D791989B5     A 2020-12-19 19:29:18 2020-12-19 19:29:18   \n",
       "1752        FF8CF7057415EB29     B 2020-12-21 16:09:41                 NaT   \n",
       "1753        FFF28D02B1EACBE1     B 2020-12-16 08:24:56 2020-12-16 08:24:57   \n",
       "\n",
       "event_name        product_page            purchase  \n",
       "0          2020-12-20 14:43:28                 NaT  \n",
       "1                          NaT                 NaT  \n",
       "2                          NaT 2020-12-21 07:20:39  \n",
       "3                          NaT                 NaT  \n",
       "4          2020-12-18 16:05:40                 NaT  \n",
       "...                        ...                 ...  \n",
       "1749       2020-12-17 14:00:31 2020-12-17 14:00:30  \n",
       "1750       2020-12-21 10:06:58                 NaT  \n",
       "1751                       NaT                 NaT  \n",
       "1752       2020-12-21 16:09:41                 NaT  \n",
       "1753       2020-12-16 08:24:57                 NaT  \n",
       "\n",
       "[1754 rows x 6 columns]"
      ]
     },
     "execution_count": 46,
     "metadata": {},
     "output_type": "execute_result"
    }
   ],
   "source": [
    "# Definir las etapas del embudo\n",
    "funnel_steps = ['product_page', 'product_cart', 'purchase']\n",
    "\n",
    "# Pivotear: una fila por usuario con fechas mínimas de cada evento\n",
    "user_event_matrix = events_14d.pivot_table(\n",
    "    index=['user_id', 'group'],\n",
    "    columns='event_name',\n",
    "    values='event_dt',\n",
    "    aggfunc='min'\n",
    ").reset_index()\n",
    "\n",
    "# Contar usuarios totales por grupo\n",
    "total_users = final_participants[['user_id', 'group']].drop_duplicates().groupby('group')['user_id'].nunique()\n",
    "\n",
    "\n",
    "print(total_users)\n",
    "user_event_matrix"
   ]
  },
  {
   "cell_type": "markdown",
   "id": "57bcd6bd",
   "metadata": {},
   "source": [
    "## Conteo de usuarios por etapa\n",
    "\n",
    "Conteo por Etapa: Se **utiliza pivot_table** para marcar qué usuarios realizaron cada evento clave. Luego, se cuentan los usuarios únicos por grupo para el total inicial y para cada evento del embudo **(product_page, product_card, purchase)**. Los resultados se guardan en **funnel_df**."
   ]
  },
  {
   "cell_type": "code",
   "execution_count": 47,
   "id": "4e68d24f",
   "metadata": {},
   "outputs": [
    {
     "data": {
      "text/html": [
       "<div>\n",
       "<style scoped>\n",
       "    .dataframe tbody tr th:only-of-type {\n",
       "        vertical-align: middle;\n",
       "    }\n",
       "\n",
       "    .dataframe tbody tr th {\n",
       "        vertical-align: top;\n",
       "    }\n",
       "\n",
       "    .dataframe thead th {\n",
       "        text-align: right;\n",
       "    }\n",
       "</style>\n",
       "<table border=\"1\" class=\"dataframe\">\n",
       "  <thead>\n",
       "    <tr style=\"text-align: right;\">\n",
       "      <th></th>\n",
       "      <th>total_users</th>\n",
       "      <th>product_page</th>\n",
       "      <th>product_cart</th>\n",
       "      <th>purchase</th>\n",
       "    </tr>\n",
       "    <tr>\n",
       "      <th>group</th>\n",
       "      <th></th>\n",
       "      <th></th>\n",
       "      <th></th>\n",
       "      <th></th>\n",
       "    </tr>\n",
       "  </thead>\n",
       "  <tbody>\n",
       "    <tr>\n",
       "      <th>A</th>\n",
       "      <td>877</td>\n",
       "      <td>563</td>\n",
       "      <td>264</td>\n",
       "      <td>253</td>\n",
       "    </tr>\n",
       "    <tr>\n",
       "      <th>B</th>\n",
       "      <td>877</td>\n",
       "      <td>493</td>\n",
       "      <td>244</td>\n",
       "      <td>249</td>\n",
       "    </tr>\n",
       "  </tbody>\n",
       "</table>\n",
       "</div>"
      ],
      "text/plain": [
       "       total_users  product_page  product_cart  purchase\n",
       "group                                                   \n",
       "A              877           563           264       253\n",
       "B              877           493           244       249"
      ]
     },
     "execution_count": 47,
     "metadata": {},
     "output_type": "execute_result"
    }
   ],
   "source": [
    "# Inicializar diccionario con el total por grupo\n",
    "funnel_counts = {'total_users': total_users}\n",
    "\n",
    "for step in funnel_steps:\n",
    "    funnel_counts[step] = (\n",
    "        user_event_matrix[user_event_matrix[step].notna()]\n",
    "        .groupby('group')['user_id']\n",
    "        .nunique()\n",
    "        .reindex(total_users.index, fill_value=0)\n",
    "    )\n",
    "\n",
    "# Combinar resultados en un DataFrame\n",
    "funnel_df = pd.DataFrame(funnel_counts).astype(int)\n",
    "funnel_df"
   ]
  },
  {
   "cell_type": "markdown",
   "id": "828c0fca",
   "metadata": {},
   "source": [
    "## Tasas de conversión generales y paso a paso\n",
    "\n",
    "- **Cálculo de Conversión General:** Se calcula el porcentaje de usuarios totales (total_users) que llegaron a cada etapa del embudo (funnel_rates_total).\n",
    "\n",
    "- **Cálculo de Conversión Paso a Paso:** Se calcula el porcentaje de usuarios que pasaron de una etapa a la siguiente (e.g., % de usuarios de product_page que llegaron a product_card). Se usa shift(axis=1) para acceder al valor de la columna anterior (etapa previa) y realizar la división. Se renombran las columnas para indicar qué transición representa cada tasa."
   ]
  },
  {
   "cell_type": "code",
   "execution_count": 48,
   "id": "297a5bda",
   "metadata": {},
   "outputs": [],
   "source": [
    "# Conversión respecto al total\n",
    "for step in funnel_steps:\n",
    "    funnel_df[f'conv_total_{step}'] = (\n",
    "        funnel_df[step] / funnel_df['total_users'] * 100\n",
    "    ).round(2)\n",
    "\n",
    "# Conversión paso a paso\n",
    "previous_col = 'total_users'\n",
    "for step in funnel_steps:\n",
    "    col_name = f'conv_{previous_col}_to_{step}'\n",
    "    funnel_df[col_name] = (\n",
    "        funnel_df[step] / funnel_df[previous_col].replace(0, np.nan) * 100\n",
    "    ).fillna(0).round(2)\n",
    "    previous_col = step\n"
   ]
  },
  {
   "cell_type": "markdown",
   "id": "1d9c0ceb",
   "metadata": {},
   "source": [
    "## Visualización del embudo"
   ]
  },
  {
   "cell_type": "code",
   "execution_count": 49,
   "id": "31897b1a",
   "metadata": {},
   "outputs": [
    {
     "data": {
      "image/png": "[encoded data removed]",
      "text/plain": [
       "<Figure size 1200x700 with 1 Axes>"
      ]
     },
     "metadata": {},
     "output_type": "display_data"
    }
   ],
   "source": [
    "# Preparar datos para gráfico\n",
    "plot_df = funnel_df[['total_users'] + funnel_steps].reset_index()\n",
    "plot_melted = plot_df.melt(id_vars='group', var_name='stage', value_name='user_count')\n",
    "plot_melted['stage'] = pd.Categorical(plot_melted['stage'], ordered=True, categories=['total_users'] + funnel_steps)\n",
    "\n",
    "# Gráfico\n",
    "plt.figure(figsize=(12, 7))\n",
    "sns.barplot(data=plot_melted, x='stage', y='user_count', hue='group', palette='viridis')\n",
    "plt.title('Usuarios Únicos por Etapa del Embudo (en 14 días)')\n",
    "plt.xlabel('Etapa del Embudo')\n",
    "plt.ylabel('Usuarios Únicos')\n",
    "plt.legend(title='Grupo')\n",
    "plt.tight_layout()\n",
    "plt.show()\n"
   ]
  },
  {
   "cell_type": "markdown",
   "id": "98047e42",
   "metadata": {},
   "source": [
    "## **Conclusiones del Análisis A/B — Test \"Recommender System\"**\n",
    "\n",
    "### **1. Balance entre grupos**\n",
    "\n",
    "- Se logró un balance perfecto entre los grupos A (control) y B (tratamiento) tras aplicar un muestreo estricto y filtrado por región (UE), test específico y periodo de registro.\n",
    "- Ambos grupos están representados equitativamente en el análisis, garantizando comparabilidad válida de los resultados.\n",
    "\n",
    "### **2. Participación y Retención**\n",
    "\n",
    "- En todas las etapas del embudo, el grupo B tiene un volumen de usuarios ligeramente inferior al grupo A, pero esto es esperable tras el balance por muestreo.\n",
    "- La tasa de retención (usuarios que avanzan de una etapa a otra) es más importante que el volumen absoluto.\n",
    "\n",
    "### **3. Conversión por etapa del embudo**\n",
    "\n",
    "- En general, las tasas de conversión son similares entre los grupos en cada etapa, sin diferencias estadísticamente evidentes a simple vista en los gráficos de barras.\n",
    "- Si bien podría haber ligeras variaciones (por ejemplo, una caída más pronunciada en una etapa para el grupo B), estas diferencias no parecen dramáticas.\n",
    "\n",
    "### **4. Impacto del sistema de recomendación**\n",
    "\n",
    "- No se observan mejoras significativas a lo largo del embudo que indiquen que el sistema de recomendación (grupo B) aumente notablemente la conversión.\n",
    "- Esto sugiere que el nuevo sistema no generó un impacto positivo claro, al menos en las métricas analizadas (clics, visitas a la tarjeta de producto, etc.).\n",
    "\n",
    "---"
   ]
  },
  {
   "cell_type": "markdown",
   "id": "06daa33b",
   "metadata": {},
   "source": [
    "#  Prueba Z \n",
    "\n",
    "## Para comparar proporciones de conversión entre los grupos del test A/B.\n",
    "\n",
    "### **Objetivo:**\n",
    "Queremos comprobar si la diferencia en las tasas de conversión entre el grupo control y el grupo experimental es estadísticamente significativa.\n",
    "\n",
    "1. Calcular la tasa de conversión de cada grupo.\n",
    "\n",
    "2. Aplicar la prueba Z de diferencia de proporciones.\n",
    "\n",
    "3. Evaluar el valor p (p-value).\n",
    "\n"
   ]
  },
  {
   "cell_type": "code",
   "execution_count": 50,
   "id": "84f62bc6",
   "metadata": {},
   "outputs": [
    {
     "data": {
      "text/plain": [
       "event_name\n",
       "login           5060\n",
       "product_page    2957\n",
       "product_cart    1424\n",
       "purchase        1387\n",
       "Name: count, dtype: int64"
      ]
     },
     "execution_count": 50,
     "metadata": {},
     "output_type": "execute_result"
    }
   ],
   "source": [
    "final_events['event_name'].value_counts()"
   ]
  },
  {
   "cell_type": "code",
   "execution_count": 51,
   "id": "095c82c9",
   "metadata": {},
   "outputs": [
    {
     "data": {
      "text/plain": [
       "array(['A', 'B'], dtype=object)"
      ]
     },
     "execution_count": 51,
     "metadata": {},
     "output_type": "execute_result"
    }
   ],
   "source": [
    "final_participants['group'].unique()"
   ]
  },
  {
   "cell_type": "code",
   "execution_count": 52,
   "id": "b6613099",
   "metadata": {},
   "outputs": [],
   "source": [
    "# Crear columna booleana de conversión: True si el usuario realizó 'purchase'\n",
    "converted_users = final_events[final_events['event_name'] == 'purchase']['user_id'].unique()\n",
    "final_participants['converted'] = final_participants['user_id'].isin(converted_users)\n"
   ]
  },
  {
   "cell_type": "code",
   "execution_count": 53,
   "id": "c70be552",
   "metadata": {},
   "outputs": [
    {
     "name": "stdout",
     "output_type": "stream",
     "text": [
      "Estadístico Z: 0.211\n",
      "Valor p: 0.833\n",
      "No hay evidencia suficiente para afirmar una diferencia significativa entre los grupos.\n"
     ]
    }
   ],
   "source": [
    "from statsmodels.stats.proportion import proportions_ztest\n",
    "\n",
    "# Contar conversiones por grupo\n",
    "conv_counts = final_participants.groupby('group')['converted'].sum()\n",
    "n_users = final_participants['group'].value_counts()\n",
    "\n",
    "# Prueba Z\n",
    "successes = [conv_counts['A'], conv_counts['B']]\n",
    "nobs = [n_users['A'], n_users['B']]\n",
    "\n",
    "z_stat, p_val = proportions_ztest(successes, nobs)\n",
    "\n",
    "print(f'Estadístico Z: {z_stat:.3f}')\n",
    "print(f'Valor p: {p_val:.3f}')\n",
    "\n",
    "# Interpretación\n",
    "if p_val < 0.05:\n",
    "    print(\"Hay una diferencia estadísticamente significativa entre los grupos.\")\n",
    "else:\n",
    "    print(\"No hay evidencia suficiente para afirmar una diferencia significativa entre los grupos.\")\n"
   ]
  },
  {
   "cell_type": "markdown",
   "id": "8e9f1171",
   "metadata": {},
   "source": [
    "## **Conclusiones de la prueba A/B**\n",
    "\n",
    "- No hay diferencia estadísticamente significativa entre los grupos A y B respecto a la tasa de conversión (evento: purchase).\n",
    "\n",
    "- El valor p (0.833) es muy superior al umbral estándar de significancia (0.05), lo que indica que cualquier diferencia observada en la tasa de conversión es probablemente debida al azar.\n",
    "\n",
    "- A pesar de posibles diferencias visuales en los gráficos o en valores absolutos, estadísticamente el nuevo diseño o variante (grupo B) no mejora ni empeora significativamente la conversión respecto al grupo A.\n",
    "\n",
    "- Recomendación: dado que la implementación de la variante no aporta beneficios medibles en conversión, se recomienda no implementar cambios permanentes basados en esta prueba.\n",
    "\n",
    "---"
   ]
  },
  {
   "cell_type": "markdown",
   "id": "494354fc",
   "metadata": {},
   "source": [
    "# **Conclusión General del Proyecto de Prueba A/B**\n",
    "A lo largo de este proyecto se realizó un análisis completo de una prueba A/B con el objetivo de evaluar si una nueva variante (grupo B) influye de forma significativa en la conversión de usuarios, medida a través del evento purchase.\n",
    "\n",
    "## **Resumen del análisis:**\n",
    "\n",
    "**Preparación y limpieza de datos:**\n",
    "Se integraron y filtraron correctamente los datasets de usuarios y eventos, asegurando que los datos fueran coherentes y consistentes antes del análisis.\n",
    "\n",
    "**Análisis exploratorio del embudo de conversión:**\n",
    "Se estudió el recorrido de los usuarios desde el login hasta la compra, visualizando claramente el embudo. Se observó una caída progresiva natural, sin anomalías importantes, y con tasas de conversión similares entre los grupos.\n",
    "\n",
    "**Verificaciones importantes antes del test:**\n",
    "\n",
    "- Se confirmó que no hay usuarios duplicados entre los grupos.\n",
    "\n",
    "- La distribución de eventos entre los días es similar para ambos grupos, sin picos anómalos que puedan sesgar el análisis.\n",
    "\n",
    "- Se verificó la cantidad de eventos por usuario, observando que no existen grandes desigualdades.\n",
    "\n",
    "**Análisis temporal:**\n",
    "Se visualizó la distribución de eventos a lo largo del tiempo, mostrando una actividad estable en ambos grupos, sin diferencias marcadas ni caídas atípicas.\n",
    "\n",
    "**Prueba estadística (Z-test):**\n",
    "El análisis mostró que no hay evidencia estadística suficiente para afirmar una diferencia significativa en las tasas de conversión entre los grupos A y B.\n",
    "\n",
    "Valor p: 0.833\n",
    "\n",
    "**Conclusión: la variante no tiene un efecto medible en la conversión.**\n",
    "\n",
    "**Conclusión final:**\n",
    "El experimento fue correctamente ejecutado y no se detectaron problemas en los datos. Sin embargo, la variante testeada (grupo B) no ofrece una mejora significativa respecto al grupo de control. Por lo tanto, desde el punto de vista estadístico, **no se justifica su implementación.**"
   ]
  }
 ],
 "metadata": {
  "kernelspec": {
   "display_name": "Python 3",
   "language": "python",
   "name": "python3"
  },
  "language_info": {
   "codemirror_mode": {
    "name": "ipython",
    "version": 3
   },
   "file_extension": ".py",
   "mimetype": "text/x-python",
   "name": "python",
   "nbconvert_exporter": "python",
   "pygments_lexer": "ipython3",
   "version": "3.13.1"
  }
 },
 "nbformat": 4,
 "nbformat_minor": 5
}
